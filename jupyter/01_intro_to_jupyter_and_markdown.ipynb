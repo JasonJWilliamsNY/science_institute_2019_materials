{
 "cells": [
  {
   "cell_type": "markdown",
   "metadata": {},
   "source": [
    "# Introduction to Jupyter and Markdown\n",
    "![](https://jupyter.org/assets/main-logo.svg)"
   ]
  },
  {
   "cell_type": "markdown",
   "metadata": {},
   "source": [
    "[Jupyter](https://jupyter.org/) is a popular tool for working with code. Sometimes, we will be using Jupyter in class to do lab work. \n",
    "\n",
    "In some ways, Jupyter is not that different from other ways you might use a computer on the web to type (like you probably do now with a Google Doc). To start we should know a little bit more about how to use this Notebook tool. "
   ]
  },
  {
   "cell_type": "markdown",
   "metadata": {},
   "source": [
    "## Title Bar\n",
    "\n",
    "On the top of the notebook (next to the Jupyter logo) is the title of the notebook. This notebook is entitled `01_intro_to_jupyter_and_markdown`. You can click on the title of the notebook to rename. By default, a new notebook is \"Untitled\"\n",
    "![](./img/01_title.png)"
   ]
  },
  {
   "cell_type": "markdown",
   "metadata": {},
   "source": [
    "## Menu bar\n",
    "\n",
    "The menu bar has a variety of options. For right now, the most relevant is `File` since sometimes we will want to open a new notebook or save a notebook. \n",
    "![](./img/01_file_menu.png)"
   ]
  },
  {
   "cell_type": "markdown",
   "metadata": {},
   "source": [
    "## Shortcut functions\n",
    "\n",
    "Right now, this is the most useful set of buttons/menus. There are a few to focus on:\n",
    "- **Disk icon**: Although the notebook auto-saves, you can save using this button\n",
    "- **Plus button**: Everything in a notebook is written inside of a \"Cell\". This button allows you to add new cells to your notebooks\n",
    "- **Run**: Allows you to run a cell (this will be more useful when we are running code)\n",
    "- **Code/Markdown**: We can use this menu to set a cell as a *code cell* or a *markdown* cell. There are some other options here we won't need to use now. \n",
    "![](./img/01_shortcuts.png)"
   ]
  },
  {
   "cell_type": "markdown",
   "metadata": {},
   "source": [
    "## Introduction to Markdown\n",
    "\n",
    "[Markdown](https://en.wikipedia.org/wiki/Markdown) is a way to write a document (e.g. a lab report, a website, a Jupyter notebook, a poem, etc.). \n",
    "\n",
    "When you write a report for example, there are a number of ways you can format your document to make it more organized and easier to read. For example:\n",
    "\n",
    "You could make important text *italic* or **bold**\n",
    "\n",
    "You could list items in a bullet list:\n",
    "\n",
    "- Item one\n",
    "- Item two \n",
    "- Item three\n",
    "\n",
    "You could put data in a table \n",
    "\n",
    "|Time|Observation|\n",
    "|----|-----------|\n",
    "|1 PM|Rain|\n",
    "|2 PM|Rain|\n",
    "|3 PM|Clear|\n",
    "\n",
    "You could add a photo\n",
    "![](./img/01_kittens.jpg)\n",
    "\n",
    "Normally, to do all of these in something like Microsoft Word or Google Docs, you would need to find menus or buttons that would allow you to highlight a text and make it bold, or insert a table. Markdown allows you to do this in plain text. The text format is free and universal and they can be read by everyone without any special software. \n",
    "\n",
    "In order to do this formatting in Markdown, you use a few simple characters to do this same formatting. \n",
    "\n",
    "Cheat sheet of Markdown symbols is here: [markdown cheetsheet](https://github.com/adam-p/markdown-here/wiki/Markdown-Cheatsheet)\n"
   ]
  },
  {
   "cell_type": "markdown",
   "metadata": {},
   "source": [
    "## Markdown Editing\n",
    "\n",
    "Let's work on some markdown editing. \n",
    "\n",
    "Below are a few cells. They have a grey-colored background because they have not been run. Click on the cell and then click the \"run\" button (or press control key + enter at the same time) to \"run\" the cell. When you run a cell, the markdown will be \"rendered\" "
   ]
  },
  {
   "cell_type": "markdown",
   "metadata": {},
   "source": [
    "This is how you make text **bold**"
   ]
  },
  {
   "cell_type": "markdown",
   "metadata": {},
   "source": [
    "This is how you make text *italic*"
   ]
  },
  {
   "cell_type": "markdown",
   "metadata": {},
   "source": [
    "This is how you make a list:\n",
    "\n",
    "- Item one \n",
    "- Item two\n",
    "- Item three"
   ]
  },
  {
   "cell_type": "markdown",
   "metadata": {},
   "source": [
    "This is how you make a table:\n",
    "\n",
    "|Column 1|Column2|\n",
    "|--------|-------|\n",
    "|one|two|\n",
    "|three|four|"
   ]
  },
  {
   "cell_type": "markdown",
   "metadata": {},
   "source": [
    "This is how you add a link to another website\n",
    "\n",
    "[Google - or whatever you want to call your link](https://www.google.com/)"
   ]
  },
  {
   "cell_type": "markdown",
   "metadata": {},
   "source": [
    "You can add images, but they must be uploaded to the Jupyter server (we can do this another time). In the meantime, you can add an image as long as it is on the web:\n",
    "\n",
    "![](https://i2.wp.com/metro.co.uk/wp-content/uploads/2017/07/187144066.jpg?quality=90&strip=all&zoom=1&resize=644%2C428&ssl=1)"
   ]
  },
  {
   "cell_type": "markdown",
   "metadata": {},
   "source": [
    "### Steps to add and edit your own markdown \n",
    "\n",
    "1. Click the + button to add a new cell\n",
    "2. Click the new cell to select it, then in the shortcut menu change the cell from a \"code\" cell to a markdown cell\n",
    "3. Type your markdown\n",
    "4. Click Run (or hit Control + Enter)\n",
    "\n",
    "Try this below!\n"
   ]
  }
 ],
 "metadata": {
  "kernelspec": {
   "display_name": "Python 3",
   "language": "python",
   "name": "python3"
  },
  "language_info": {
   "codemirror_mode": {
    "name": "ipython",
    "version": 3
   },
   "file_extension": ".py",
   "mimetype": "text/x-python",
   "name": "python",
   "nbconvert_exporter": "python",
   "pygments_lexer": "ipython3",
   "version": "3.7.0"
  }
 },
 "nbformat": 4,
 "nbformat_minor": 2
}
