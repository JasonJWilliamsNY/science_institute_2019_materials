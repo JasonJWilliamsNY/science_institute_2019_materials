{
 "cells": [
  {
   "cell_type": "markdown",
   "metadata": {},
   "source": [
    "## Micropipette Measurement and Error Lab\n",
    "\n",
    "Micropipettes are standard equipment in the molecular biology lab. Like all experimental equipment they are imperfect, meaning that they have error. \n",
    "\n",
    "# Error \n",
    "\n",
    "Error is an important concept for all scientists - we already know any measurement we make is imperfect, but even more important to a scientist is that we try to descibe how much error our meausrements may contain. \n",
    "\n",
    "Two ways we can describe this is to talk about a measurent's \n",
    "\n",
    "- Accuracy (How much a measurement/observation differs from the true value)\n",
    "- Precission (If we take a measurment many times, how closely will those different measurements/observations agree)\n",
    "\n",
    "Here are some figures that illustrate these points \n",
    "\n",
    "**As a graph**\n",
    "![](./img/02_2880px-Accuracy_and_precision.svg.png)\n",
    "[Credit: Pekaje at English Wikipedia - Transferred from en.wikipedia to Commons. Created by Pekaje, based on PNG version by Anthony Cutler, using en:xfig, en:inkscape, and en:HTML Tidy]\n",
    "\n",
    "\n",
    "\n",
    "**As an anology with darts**\n",
    "![](./img/02_precision_accuracy.png)\n",
    "[Credit: http://cdn.antarcticglaciers.org/wp-content/uploads/2013/11/precision_accuracy.png]\n"
   ]
  },
  {
   "cell_type": "code",
   "execution_count": null,
   "metadata": {
    "collapsed": true
   },
   "outputs": [],
   "source": []
  },
  {
   "cell_type": "code",
   "execution_count": null,
   "metadata": {
    "collapsed": true
   },
   "outputs": [],
   "source": []
  },
  {
   "cell_type": "markdown",
   "metadata": {},
   "source": [
    "## Pipetting Exercise\n",
    "\n",
    "Based on **DNA Science A First Course - Second Edition: Micklos, Freyer, Crotty**\n",
    "\n",
    "Complete the following instructions with our colored solutions to test our pipette error. If you have the **Grey Pipette** use this table:\n",
    "\n",
    "|Tube|Sol. I|Sol. II|Sol. III|Sol. IV|\n",
    "|----|------|-------|--------|-------|\n",
    "|A| 4 ul|5 ul|1 ul|-|\n",
    "|B| 4 ul|5 ul|- ul|1 ul|\n",
    "|C| 4 ul|4 ul|1 ul|1 ul|\n",
    "\n",
    "1. Use a marker to lable three tubes A, B, and C\n",
    "2. Use the table above to add the required amount of solution to each tube\n",
    "3. Use a centrifugue to spin all the solutions down to the bottom of the tubes\n",
    "4. Using a grey pipette set 10 microliters, test and see if each tube actually has the full 10ul volume. You can adjust the volume down untill there is no air to get the actual measurement. \n",
    "\n",
    "\n",
    "\n",
    "If you have the **Blue Pipette** use this table:\n",
    "\n",
    "|Tube|Sol. I|Sol. II|Sol. III|Sol. IV|\n",
    "|----|------|-------|--------|-------|\n",
    "|D| 100 ul|200 ul|150 ul|550 ul|\n",
    "|E| 150 ul|250 ul|350 ul|250 ul|\n",
    "\n",
    "1. Use a marker to lable three tubes D and E\n",
    "2. Use the table above to add the required amount of solution to each tube\n",
    "4. Using a blue pipette set 1000 microliters, test and see if each tube actually has the full 100ul volume. You can adjust the volume down untill there is no air to get the actual measurement. \n",
    "\n",
    "\n",
    "\n"
   ]
  },
  {
   "cell_type": "markdown",
   "metadata": {},
   "source": [
    "We will collect the true meaurements for everyone in the class on the etherpad"
   ]
  },
  {
   "cell_type": "markdown",
   "metadata": {},
   "source": [
    "## Error table\n",
    "\n",
    "According to Eppendorf, pipettes should have the following amount of error (pipettes we used are highlighted)\n",
    "![](./img/02_pipette_error.png)"
   ]
  },
  {
   "cell_type": "markdown",
   "metadata": {},
   "source": [
    "So for example, a blue pipette measureing 1000ul can will typically have up to 0.6 percent error. We can calculate this in the following cell: "
   ]
  },
  {
   "cell_type": "code",
   "execution_count": 3,
   "metadata": {
    "collapsed": false
   },
   "outputs": [
    {
     "data": {
      "text/plain": [
       "6.0"
      ]
     },
     "execution_count": 3,
     "metadata": {},
     "output_type": "execute_result"
    }
   ],
   "source": [
    "# 1000ul multiplied by 0.6%\n",
    "1000 * 0.006"
   ]
  },
  {
   "cell_type": "markdown",
   "metadata": {},
   "source": [
    "So, our measurement is usually off by about 6 microliters. \n",
    "This is the systemic error. If we also add the random error we get:"
   ]
  },
  {
   "cell_type": "code",
   "execution_count": 4,
   "metadata": {
    "collapsed": false
   },
   "outputs": [
    {
     "data": {
      "text/plain": [
       "8.0"
      ]
     },
     "execution_count": 4,
     "metadata": {},
     "output_type": "execute_result"
    }
   ],
   "source": [
    "# 1000ul multiplied by 0.6% + 0.2%\n",
    "1000 * (0.006 + 0.002)"
   ]
  },
  {
   "cell_type": "markdown",
   "metadata": {},
   "source": [
    "Including the random error we can be off by as much as 8 microliters. \n"
   ]
  },
  {
   "cell_type": "markdown",
   "metadata": {},
   "source": [
    "## Calulating the difference in error\n",
    "\n",
    "If we know what our expected error is (e.g. 8ul) what if our observed error is more than this (lets say 15 ul). What is the difference?"
   ]
  },
  {
   "cell_type": "code",
   "execution_count": 11,
   "metadata": {
    "collapsed": false
   },
   "outputs": [
    {
     "name": "stdout",
     "output_type": "stream",
     "text": [
      "60.86956521739131\n"
     ]
    }
   ],
   "source": [
    "Expected_error = 8\n",
    "Observed_error = 15\n",
    "\n",
    "#abs stands for absolute value\n",
    "difference_in_error = abs(Expected_error - Observed_error)/((Expected_error + Observed_error)/2)*100\n",
    "print(difference_in_error)"
   ]
  },
  {
   "cell_type": "markdown",
   "metadata": {},
   "source": [
    "In our example above there was a 60% difference. Given your values, what percent error did you see?"
   ]
  },
  {
   "cell_type": "code",
   "execution_count": null,
   "metadata": {
    "collapsed": true
   },
   "outputs": [],
   "source": [
    "# change these two number to what are correct in your case\n",
    "Expected_error = 8\n",
    "Observed_error = 15\n",
    "\n",
    "#don't change this!\n",
    "difference_in_error = abs(Expected_error - Observed_error)/((Expected_error + Observed_error)/2)*100\n",
    "print(difference_in_error)"
   ]
  }
 ],
 "metadata": {
  "kernelspec": {
   "display_name": "Python 3",
   "language": "python",
   "name": "python3"
  },
  "language_info": {
   "codemirror_mode": {
    "name": "ipython",
    "version": 3
   },
   "file_extension": ".py",
   "mimetype": "text/x-python",
   "name": "python",
   "nbconvert_exporter": "python",
   "pygments_lexer": "ipython3",
   "version": "3.5.3"
  }
 },
 "nbformat": 4,
 "nbformat_minor": 2
}
